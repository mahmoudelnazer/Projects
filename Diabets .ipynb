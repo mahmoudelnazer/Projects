{
 "cells": [
  {
   "cell_type": "code",
   "execution_count": 1,
   "metadata": {
    "id": "17Kw7Y_oosbX"
   },
   "outputs": [],
   "source": [
    "import numpy as np\n",
    "import pandas as pd\n",
    "import matplotlib.pyplot as plt\n",
    "import seaborn as sns\n",
    "import plotly.graph_objs as go\n",
    "from plotly.offline import iplot\n",
    "from sklearn.preprocessing import StandardScaler,Normalizer\n",
    "from sklearn.linear_model import LogisticRegression\n",
    "from sklearn.metrics import confusion_matrix\n",
    "from sklearn.metrics import precision_score, recall_score, accuracy_score, f1_score\n",
    "from sklearn.metrics import roc_curve\n",
    "from sklearn.metrics import roc_auc_score\n",
    "import matplotlib.pyplot as plt\n",
    "from sklearn.model_selection import train_test_split\n",
    "from sklearn.preprocessing import LabelEncoder\n",
    "from sklearn.neighbors import KNeighborsClassifier\n",
    "from sklearn.model_selection import KFold\n",
    "from sklearn.svm import SVC"
   ]
  },
  {
   "cell_type": "code",
   "execution_count": 2,
   "metadata": {
    "id": "tDZWpt-4pTDQ"
   },
   "outputs": [],
   "source": [
    "df_train = pd.read_csv(\"/content/sample_data/diabetes.csv\",na_values = {'Glucose':0,\n",
    "                                    'BloodPressure':0,\n",
    "                                    'SkinThickness':0,\n",
    "                                    'Insulin':0,\n",
    "                                    'BMI':0})"
   ]
  },
  {
   "cell_type": "code",
   "execution_count": 3,
   "metadata": {
    "colab": {
     "base_uri": "https://localhost:8080/",
     "height": 204
    },
    "id": "7gU82HzOslab",
    "outputId": "7e781e32-3b10-48f1-84b8-292a8d88fac6"
   },
   "outputs": [
    {
     "data": {
      "text/html": [
       "<div>\n",
       "<style scoped>\n",
       "    .dataframe tbody tr th:only-of-type {\n",
       "        vertical-align: middle;\n",
       "    }\n",
       "\n",
       "    .dataframe tbody tr th {\n",
       "        vertical-align: top;\n",
       "    }\n",
       "\n",
       "    .dataframe thead th {\n",
       "        text-align: right;\n",
       "    }\n",
       "</style>\n",
       "<table border=\"1\" class=\"dataframe\">\n",
       "  <thead>\n",
       "    <tr style=\"text-align: right;\">\n",
       "      <th></th>\n",
       "      <th>Pregnancies</th>\n",
       "      <th>Glucose</th>\n",
       "      <th>BloodPressure</th>\n",
       "      <th>SkinThickness</th>\n",
       "      <th>Insulin</th>\n",
       "      <th>BMI</th>\n",
       "      <th>DiabetesPedigreeFunction</th>\n",
       "      <th>Age</th>\n",
       "      <th>Outcome</th>\n",
       "    </tr>\n",
       "  </thead>\n",
       "  <tbody>\n",
       "    <tr>\n",
       "      <th>0</th>\n",
       "      <td>6</td>\n",
       "      <td>148.0</td>\n",
       "      <td>72.0</td>\n",
       "      <td>35.0</td>\n",
       "      <td>NaN</td>\n",
       "      <td>33.6</td>\n",
       "      <td>0.627</td>\n",
       "      <td>50</td>\n",
       "      <td>1</td>\n",
       "    </tr>\n",
       "    <tr>\n",
       "      <th>1</th>\n",
       "      <td>1</td>\n",
       "      <td>85.0</td>\n",
       "      <td>66.0</td>\n",
       "      <td>29.0</td>\n",
       "      <td>NaN</td>\n",
       "      <td>26.6</td>\n",
       "      <td>0.351</td>\n",
       "      <td>31</td>\n",
       "      <td>0</td>\n",
       "    </tr>\n",
       "    <tr>\n",
       "      <th>2</th>\n",
       "      <td>8</td>\n",
       "      <td>183.0</td>\n",
       "      <td>64.0</td>\n",
       "      <td>NaN</td>\n",
       "      <td>NaN</td>\n",
       "      <td>23.3</td>\n",
       "      <td>0.672</td>\n",
       "      <td>32</td>\n",
       "      <td>1</td>\n",
       "    </tr>\n",
       "    <tr>\n",
       "      <th>3</th>\n",
       "      <td>1</td>\n",
       "      <td>89.0</td>\n",
       "      <td>66.0</td>\n",
       "      <td>23.0</td>\n",
       "      <td>94.0</td>\n",
       "      <td>28.1</td>\n",
       "      <td>0.167</td>\n",
       "      <td>21</td>\n",
       "      <td>0</td>\n",
       "    </tr>\n",
       "    <tr>\n",
       "      <th>4</th>\n",
       "      <td>0</td>\n",
       "      <td>137.0</td>\n",
       "      <td>40.0</td>\n",
       "      <td>35.0</td>\n",
       "      <td>168.0</td>\n",
       "      <td>43.1</td>\n",
       "      <td>2.288</td>\n",
       "      <td>33</td>\n",
       "      <td>1</td>\n",
       "    </tr>\n",
       "  </tbody>\n",
       "</table>\n",
       "</div>"
      ],
      "text/plain": [
       "   Pregnancies  Glucose  BloodPressure  ...  DiabetesPedigreeFunction  Age  Outcome\n",
       "0            6    148.0           72.0  ...                     0.627   50        1\n",
       "1            1     85.0           66.0  ...                     0.351   31        0\n",
       "2            8    183.0           64.0  ...                     0.672   32        1\n",
       "3            1     89.0           66.0  ...                     0.167   21        0\n",
       "4            0    137.0           40.0  ...                     2.288   33        1\n",
       "\n",
       "[5 rows x 9 columns]"
      ]
     },
     "execution_count": 3,
     "metadata": {
      "tags": []
     },
     "output_type": "execute_result"
    }
   ],
   "source": [
    "df_train.head()"
   ]
  },
  {
   "cell_type": "code",
   "execution_count": 4,
   "metadata": {
    "colab": {
     "base_uri": "https://localhost:8080/",
     "height": 297
    },
    "id": "aRR30k4gsl7p",
    "outputId": "e4c03384-9b36-461e-fa44-be76e7f03c4d"
   },
   "outputs": [
    {
     "data": {
      "text/html": [
       "<div>\n",
       "<style scoped>\n",
       "    .dataframe tbody tr th:only-of-type {\n",
       "        vertical-align: middle;\n",
       "    }\n",
       "\n",
       "    .dataframe tbody tr th {\n",
       "        vertical-align: top;\n",
       "    }\n",
       "\n",
       "    .dataframe thead th {\n",
       "        text-align: right;\n",
       "    }\n",
       "</style>\n",
       "<table border=\"1\" class=\"dataframe\">\n",
       "  <thead>\n",
       "    <tr style=\"text-align: right;\">\n",
       "      <th></th>\n",
       "      <th>Pregnancies</th>\n",
       "      <th>Glucose</th>\n",
       "      <th>BloodPressure</th>\n",
       "      <th>SkinThickness</th>\n",
       "      <th>Insulin</th>\n",
       "      <th>BMI</th>\n",
       "      <th>DiabetesPedigreeFunction</th>\n",
       "      <th>Age</th>\n",
       "      <th>Outcome</th>\n",
       "    </tr>\n",
       "  </thead>\n",
       "  <tbody>\n",
       "    <tr>\n",
       "      <th>count</th>\n",
       "      <td>768.000000</td>\n",
       "      <td>763.000000</td>\n",
       "      <td>733.000000</td>\n",
       "      <td>541.000000</td>\n",
       "      <td>394.000000</td>\n",
       "      <td>757.000000</td>\n",
       "      <td>768.000000</td>\n",
       "      <td>768.000000</td>\n",
       "      <td>768.000000</td>\n",
       "    </tr>\n",
       "    <tr>\n",
       "      <th>mean</th>\n",
       "      <td>3.845052</td>\n",
       "      <td>121.686763</td>\n",
       "      <td>72.405184</td>\n",
       "      <td>29.153420</td>\n",
       "      <td>155.548223</td>\n",
       "      <td>32.457464</td>\n",
       "      <td>0.471876</td>\n",
       "      <td>33.240885</td>\n",
       "      <td>0.348958</td>\n",
       "    </tr>\n",
       "    <tr>\n",
       "      <th>std</th>\n",
       "      <td>3.369578</td>\n",
       "      <td>30.535641</td>\n",
       "      <td>12.382158</td>\n",
       "      <td>10.476982</td>\n",
       "      <td>118.775855</td>\n",
       "      <td>6.924988</td>\n",
       "      <td>0.331329</td>\n",
       "      <td>11.760232</td>\n",
       "      <td>0.476951</td>\n",
       "    </tr>\n",
       "    <tr>\n",
       "      <th>min</th>\n",
       "      <td>0.000000</td>\n",
       "      <td>44.000000</td>\n",
       "      <td>24.000000</td>\n",
       "      <td>7.000000</td>\n",
       "      <td>14.000000</td>\n",
       "      <td>18.200000</td>\n",
       "      <td>0.078000</td>\n",
       "      <td>21.000000</td>\n",
       "      <td>0.000000</td>\n",
       "    </tr>\n",
       "    <tr>\n",
       "      <th>25%</th>\n",
       "      <td>1.000000</td>\n",
       "      <td>99.000000</td>\n",
       "      <td>64.000000</td>\n",
       "      <td>22.000000</td>\n",
       "      <td>76.250000</td>\n",
       "      <td>27.500000</td>\n",
       "      <td>0.243750</td>\n",
       "      <td>24.000000</td>\n",
       "      <td>0.000000</td>\n",
       "    </tr>\n",
       "    <tr>\n",
       "      <th>50%</th>\n",
       "      <td>3.000000</td>\n",
       "      <td>117.000000</td>\n",
       "      <td>72.000000</td>\n",
       "      <td>29.000000</td>\n",
       "      <td>125.000000</td>\n",
       "      <td>32.300000</td>\n",
       "      <td>0.372500</td>\n",
       "      <td>29.000000</td>\n",
       "      <td>0.000000</td>\n",
       "    </tr>\n",
       "    <tr>\n",
       "      <th>75%</th>\n",
       "      <td>6.000000</td>\n",
       "      <td>141.000000</td>\n",
       "      <td>80.000000</td>\n",
       "      <td>36.000000</td>\n",
       "      <td>190.000000</td>\n",
       "      <td>36.600000</td>\n",
       "      <td>0.626250</td>\n",
       "      <td>41.000000</td>\n",
       "      <td>1.000000</td>\n",
       "    </tr>\n",
       "    <tr>\n",
       "      <th>max</th>\n",
       "      <td>17.000000</td>\n",
       "      <td>199.000000</td>\n",
       "      <td>122.000000</td>\n",
       "      <td>99.000000</td>\n",
       "      <td>846.000000</td>\n",
       "      <td>67.100000</td>\n",
       "      <td>2.420000</td>\n",
       "      <td>81.000000</td>\n",
       "      <td>1.000000</td>\n",
       "    </tr>\n",
       "  </tbody>\n",
       "</table>\n",
       "</div>"
      ],
      "text/plain": [
       "       Pregnancies     Glucose  ...         Age     Outcome\n",
       "count   768.000000  763.000000  ...  768.000000  768.000000\n",
       "mean      3.845052  121.686763  ...   33.240885    0.348958\n",
       "std       3.369578   30.535641  ...   11.760232    0.476951\n",
       "min       0.000000   44.000000  ...   21.000000    0.000000\n",
       "25%       1.000000   99.000000  ...   24.000000    0.000000\n",
       "50%       3.000000  117.000000  ...   29.000000    0.000000\n",
       "75%       6.000000  141.000000  ...   41.000000    1.000000\n",
       "max      17.000000  199.000000  ...   81.000000    1.000000\n",
       "\n",
       "[8 rows x 9 columns]"
      ]
     },
     "execution_count": 4,
     "metadata": {
      "tags": []
     },
     "output_type": "execute_result"
    }
   ],
   "source": [
    "df_train.describe()"
   ]
  },
  {
   "cell_type": "code",
   "execution_count": 5,
   "metadata": {
    "colab": {
     "base_uri": "https://localhost:8080/"
    },
    "id": "1TDCZaYtsofS",
    "outputId": "73637669-5a76-4cd3-9a7f-adbab4f2e3df"
   },
   "outputs": [
    {
     "data": {
      "text/plain": [
       "Pregnancies                   0\n",
       "Glucose                       5\n",
       "BloodPressure                35\n",
       "SkinThickness               227\n",
       "Insulin                     374\n",
       "BMI                          11\n",
       "DiabetesPedigreeFunction      0\n",
       "Age                           0\n",
       "Outcome                       0\n",
       "dtype: int64"
      ]
     },
     "execution_count": 5,
     "metadata": {
      "tags": []
     },
     "output_type": "execute_result"
    }
   ],
   "source": [
    "df_train.isna().sum()"
   ]
  },
  {
   "cell_type": "code",
   "execution_count": 6,
   "metadata": {
    "colab": {
     "base_uri": "https://localhost:8080/"
    },
    "id": "6m1V-zO-svql",
    "outputId": "2554ac13-e025-4e09-f23f-c82be0aff51d"
   },
   "outputs": [
    {
     "data": {
      "text/plain": [
       "Glucose            5\n",
       "BMI               11\n",
       "BloodPressure     35\n",
       "SkinThickness    227\n",
       "Insulin          374\n",
       "dtype: int64"
      ]
     },
     "execution_count": 6,
     "metadata": {
      "tags": []
     },
     "output_type": "execute_result"
    }
   ],
   "source": [
    "missing = df_train.isnull().sum()\n",
    "missing = missing[missing > 0]\n",
    "missing.sort_values(inplace = True)\n",
    "missing"
   ]
  },
  {
   "cell_type": "code",
   "execution_count": 7,
   "metadata": {
    "colab": {
     "base_uri": "https://localhost:8080/",
     "height": 879
    },
    "id": "tj7Y5vPjsxsQ",
    "outputId": "b09b69a6-9ecd-4d0a-cf21-add4b816034b"
   },
   "outputs": [
    {
     "data": {
      "image/png": "[encoded data removed]",
      "text/plain": [
       "<Figure size 1080x1080 with 9 Axes>"
      ]
     },
     "metadata": {
      "needs_background": "light",
      "tags": []
     },
     "output_type": "display_data"
    }
   ],
   "source": [
    "df_train.hist(bins = 40, figsize = (15,15))\n",
    "plt.show()"
   ]
  },
  {
   "cell_type": "code",
   "execution_count": 8,
   "metadata": {
    "id": "yv-iJShas4Y6"
   },
   "outputs": [],
   "source": [
    "df_train[\"Glucose_Cat\"] = df_train[\"Glucose\"].apply(lambda x: \"Normal\" if x < 140 else (\"Prediabetes\" if 140 <= x <= 199 else \"Risk\"))"
   ]
  },
  {
   "cell_type": "code",
   "execution_count": 9,
   "metadata": {
    "id": "e45npm-EtA5c"
   },
   "outputs": [],
   "source": [
    "df_train['Preg_Rate'] = df_train['Pregnancies'] / df_train['Age']"
   ]
  },
  {
   "cell_type": "code",
   "execution_count": 10,
   "metadata": {
    "id": "lI4QDk8jtLWD"
   },
   "outputs": [],
   "source": [
    "df_train[\"Insulin_Cat\"] = df_train[\"Insulin\"].apply(lambda x: \"Normal\" if (16 <= x <= 166) else \"Abnormal\")"
   ]
  },
  {
   "cell_type": "code",
   "execution_count": 11,
   "metadata": {
    "id": "9nhb2HbntOQh"
   },
   "outputs": [],
   "source": [
    "# Fill NA of the column specified with the median and use specific columns to group by \n",
    "df_train['Glucose'] = df_train['Glucose'].fillna(df_train.groupby('Outcome')['Glucose'].transform('median'))\n",
    "df_train['BMI'] = df_train['BMI'].fillna(df_train.groupby('Outcome')['BMI'].transform('median'))\n",
    "df_train['Insulin'] = df_train['Insulin'].fillna(df_train.groupby(['Outcome','Glucose_Cat'])['Insulin'].transform('median'))\n",
    "df_train['Insulin'] = df_train['Insulin'].fillna(df_train['Insulin'].median())\n",
    "df_train['SkinThickness'] = df_train['SkinThickness'].fillna(df_train.groupby(['Outcome','Glucose_Cat'])['SkinThickness'].transform('mean'))\n",
    "df_train['BloodPressure'] = df_train['BloodPressure'].fillna(df_train.groupby(['Outcome','Age','Glucose_Cat'])['BloodPressure'].transform('median'))\n",
    "df_train['BloodPressure'] = df_train['BloodPressure'].fillna(df_train['BloodPressure'].median())"
   ]
  },
  {
   "cell_type": "code",
   "execution_count": 12,
   "metadata": {
    "id": "xpoqvJMItViy"
   },
   "outputs": [],
   "source": [
    "bmi_labels = ['Underweight','Healthy Weight','Overweight','Obesity']\n",
    "\n",
    "df_train['BMI_Cat'] = pd.cut(df_train['BMI'],[0,18.5,25,30,df_train['BMI'].max()],labels=bmi_labels)"
   ]
  },
  {
   "cell_type": "code",
   "execution_count": 13,
   "metadata": {
    "colab": {
     "base_uri": "https://localhost:8080/"
    },
    "id": "Gse6md4HtYTl",
    "outputId": "55972961-37c0-4006-86a6-38497f1626f9"
   },
   "outputs": [
    {
     "data": {
      "text/plain": [
       "Series([], dtype: int64)"
      ]
     },
     "execution_count": 13,
     "metadata": {
      "tags": []
     },
     "output_type": "execute_result"
    }
   ],
   "source": [
    "missing = df_train.isnull().sum()\n",
    "missing = missing[missing > 0]\n",
    "missing.sort_values(inplace = True)\n",
    "missing"
   ]
  },
  {
   "cell_type": "code",
   "execution_count": 14,
   "metadata": {
    "colab": {
     "base_uri": "https://localhost:8080/",
     "height": 359
    },
    "id": "JfqQR9ditawv",
    "outputId": "597ebbce-c6fd-48f9-a66b-27469eef8264"
   },
   "outputs": [
    {
     "data": {
      "text/html": [
       "<div>\n",
       "<style scoped>\n",
       "    .dataframe tbody tr th:only-of-type {\n",
       "        vertical-align: middle;\n",
       "    }\n",
       "\n",
       "    .dataframe tbody tr th {\n",
       "        vertical-align: top;\n",
       "    }\n",
       "\n",
       "    .dataframe thead th {\n",
       "        text-align: right;\n",
       "    }\n",
       "</style>\n",
       "<table border=\"1\" class=\"dataframe\">\n",
       "  <thead>\n",
       "    <tr style=\"text-align: right;\">\n",
       "      <th></th>\n",
       "      <th>Pregnancies</th>\n",
       "      <th>Glucose</th>\n",
       "      <th>BloodPressure</th>\n",
       "      <th>SkinThickness</th>\n",
       "      <th>Insulin</th>\n",
       "      <th>BMI</th>\n",
       "      <th>DiabetesPedigreeFunction</th>\n",
       "      <th>Age</th>\n",
       "      <th>Outcome</th>\n",
       "      <th>Preg_Rate</th>\n",
       "    </tr>\n",
       "  </thead>\n",
       "  <tbody>\n",
       "    <tr>\n",
       "      <th>Pregnancies</th>\n",
       "      <td>1.000000</td>\n",
       "      <td>0.130155</td>\n",
       "      <td>0.214827</td>\n",
       "      <td>0.094373</td>\n",
       "      <td>0.059821</td>\n",
       "      <td>0.023890</td>\n",
       "      <td>-0.033523</td>\n",
       "      <td>0.544341</td>\n",
       "      <td>0.221898</td>\n",
       "      <td>0.920143</td>\n",
       "    </tr>\n",
       "    <tr>\n",
       "      <th>Glucose</th>\n",
       "      <td>0.130155</td>\n",
       "      <td>1.000000</td>\n",
       "      <td>0.227738</td>\n",
       "      <td>0.253567</td>\n",
       "      <td>0.578703</td>\n",
       "      <td>0.236171</td>\n",
       "      <td>0.138353</td>\n",
       "      <td>0.268910</td>\n",
       "      <td>0.495990</td>\n",
       "      <td>0.045904</td>\n",
       "    </tr>\n",
       "    <tr>\n",
       "      <th>BloodPressure</th>\n",
       "      <td>0.214827</td>\n",
       "      <td>0.227738</td>\n",
       "      <td>1.000000</td>\n",
       "      <td>0.202061</td>\n",
       "      <td>0.099416</td>\n",
       "      <td>0.285980</td>\n",
       "      <td>0.004008</td>\n",
       "      <td>0.333885</td>\n",
       "      <td>0.168099</td>\n",
       "      <td>0.107914</td>\n",
       "    </tr>\n",
       "    <tr>\n",
       "      <th>SkinThickness</th>\n",
       "      <td>0.094373</td>\n",
       "      <td>0.253567</td>\n",
       "      <td>0.202061</td>\n",
       "      <td>1.000000</td>\n",
       "      <td>0.218390</td>\n",
       "      <td>0.565817</td>\n",
       "      <td>0.104330</td>\n",
       "      <td>0.143589</td>\n",
       "      <td>0.305705</td>\n",
       "      <td>0.051465</td>\n",
       "    </tr>\n",
       "    <tr>\n",
       "      <th>Insulin</th>\n",
       "      <td>0.059821</td>\n",
       "      <td>0.578703</td>\n",
       "      <td>0.099416</td>\n",
       "      <td>0.218390</td>\n",
       "      <td>1.000000</td>\n",
       "      <td>0.249602</td>\n",
       "      <td>0.147390</td>\n",
       "      <td>0.156310</td>\n",
       "      <td>0.371153</td>\n",
       "      <td>0.010378</td>\n",
       "    </tr>\n",
       "    <tr>\n",
       "      <th>BMI</th>\n",
       "      <td>0.023890</td>\n",
       "      <td>0.236171</td>\n",
       "      <td>0.285980</td>\n",
       "      <td>0.565817</td>\n",
       "      <td>0.249602</td>\n",
       "      <td>1.000000</td>\n",
       "      <td>0.152771</td>\n",
       "      <td>0.027849</td>\n",
       "      <td>0.315577</td>\n",
       "      <td>-0.008616</td>\n",
       "    </tr>\n",
       "    <tr>\n",
       "      <th>DiabetesPedigreeFunction</th>\n",
       "      <td>-0.033523</td>\n",
       "      <td>0.138353</td>\n",
       "      <td>0.004008</td>\n",
       "      <td>0.104330</td>\n",
       "      <td>0.147390</td>\n",
       "      <td>0.152771</td>\n",
       "      <td>1.000000</td>\n",
       "      <td>0.033561</td>\n",
       "      <td>0.173844</td>\n",
       "      <td>-0.060263</td>\n",
       "    </tr>\n",
       "    <tr>\n",
       "      <th>Age</th>\n",
       "      <td>0.544341</td>\n",
       "      <td>0.268910</td>\n",
       "      <td>0.333885</td>\n",
       "      <td>0.143589</td>\n",
       "      <td>0.156310</td>\n",
       "      <td>0.027849</td>\n",
       "      <td>0.033561</td>\n",
       "      <td>1.000000</td>\n",
       "      <td>0.238356</td>\n",
       "      <td>0.258233</td>\n",
       "    </tr>\n",
       "    <tr>\n",
       "      <th>Outcome</th>\n",
       "      <td>0.221898</td>\n",
       "      <td>0.495990</td>\n",
       "      <td>0.168099</td>\n",
       "      <td>0.305705</td>\n",
       "      <td>0.371153</td>\n",
       "      <td>0.315577</td>\n",
       "      <td>0.173844</td>\n",
       "      <td>0.238356</td>\n",
       "      <td>1.000000</td>\n",
       "      <td>0.163744</td>\n",
       "    </tr>\n",
       "    <tr>\n",
       "      <th>Preg_Rate</th>\n",
       "      <td>0.920143</td>\n",
       "      <td>0.045904</td>\n",
       "      <td>0.107914</td>\n",
       "      <td>0.051465</td>\n",
       "      <td>0.010378</td>\n",
       "      <td>-0.008616</td>\n",
       "      <td>-0.060263</td>\n",
       "      <td>0.258233</td>\n",
       "      <td>0.163744</td>\n",
       "      <td>1.000000</td>\n",
       "    </tr>\n",
       "  </tbody>\n",
       "</table>\n",
       "</div>"
      ],
      "text/plain": [
       "                          Pregnancies   Glucose  ...   Outcome  Preg_Rate\n",
       "Pregnancies                  1.000000  0.130155  ...  0.221898   0.920143\n",
       "Glucose                      0.130155  1.000000  ...  0.495990   0.045904\n",
       "BloodPressure                0.214827  0.227738  ...  0.168099   0.107914\n",
       "SkinThickness                0.094373  0.253567  ...  0.305705   0.051465\n",
       "Insulin                      0.059821  0.578703  ...  0.371153   0.010378\n",
       "BMI                          0.023890  0.236171  ...  0.315577  -0.008616\n",
       "DiabetesPedigreeFunction    -0.033523  0.138353  ...  0.173844  -0.060263\n",
       "Age                          0.544341  0.268910  ...  0.238356   0.258233\n",
       "Outcome                      0.221898  0.495990  ...  1.000000   0.163744\n",
       "Preg_Rate                    0.920143  0.045904  ...  0.163744   1.000000\n",
       "\n",
       "[10 rows x 10 columns]"
      ]
     },
     "execution_count": 14,
     "metadata": {
      "tags": []
     },
     "output_type": "execute_result"
    }
   ],
   "source": [
    "correlation_matrix = df_train.corr()\n",
    "correlation_matrix[\"Outcome\"].sort_values(ascending = False)\n",
    "correlation_matrix"
   ]
  },
  {
   "cell_type": "code",
   "execution_count": 15,
   "metadata": {
    "colab": {
     "base_uri": "https://localhost:8080/",
     "height": 547
    },
    "id": "VrARuL2ttlHW",
    "outputId": "4adf2f90-0061-42b4-f94d-5325c0339326"
   },
   "outputs": [
    {
     "data": {
      "image/png": "[encoded data removed]",
      "text/plain": [
       "<Figure size 1800x720 with 2 Axes>"
      ]
     },
     "metadata": {
      "needs_background": "light",
      "tags": []
     },
     "output_type": "display_data"
    }
   ],
   "source": [
    "fig,ax= plt.subplots(figsize=(25,10))\n",
    "sns.heatmap(correlation_matrix,cmap='coolwarm',annot=True)\n",
    "plt.title('Correlation Map')\n",
    "plt.show()"
   ]
  },
  {
   "cell_type": "code",
   "execution_count": 16,
   "metadata": {
    "colab": {
     "base_uri": "https://localhost:8080/"
    },
    "id": "2oDwvTJYtnZl",
    "outputId": "7c4c8c7f-4edc-4ba9-aad1-78aa19f46325"
   },
   "outputs": [
    {
     "data": {
      "text/plain": [
       "['Pregnancies',\n",
       " 'Glucose',\n",
       " 'BloodPressure',\n",
       " 'SkinThickness',\n",
       " 'Insulin',\n",
       " 'BMI',\n",
       " 'DiabetesPedigreeFunction',\n",
       " 'Age',\n",
       " 'Preg_Rate']"
      ]
     },
     "execution_count": 16,
     "metadata": {
      "tags": []
     },
     "output_type": "execute_result"
    }
   ],
   "source": [
    "quantitative = [f for f in df_train.columns if df_train.dtypes[f] == 'int64' or df_train.dtypes[f] == 'float64' ]\n",
    "quantitative.remove('Outcome')\n",
    "quantitative"
   ]
  },
  {
   "cell_type": "code",
   "execution_count": 17,
   "metadata": {
    "colab": {
     "base_uri": "https://localhost:8080/",
     "height": 241
    },
    "id": "2wzI_Cjbtqkw",
    "outputId": "03a7b2b5-72f9-4859-a877-b4cd13a27c2b"
   },
   "outputs": [
    {
     "data": {
      "text/html": [
       "<div>\n",
       "<style scoped>\n",
       "    .dataframe tbody tr th:only-of-type {\n",
       "        vertical-align: middle;\n",
       "    }\n",
       "\n",
       "    .dataframe tbody tr th {\n",
       "        vertical-align: top;\n",
       "    }\n",
       "\n",
       "    .dataframe thead th {\n",
       "        text-align: right;\n",
       "    }\n",
       "</style>\n",
       "<table border=\"1\" class=\"dataframe\">\n",
       "  <thead>\n",
       "    <tr style=\"text-align: right;\">\n",
       "      <th></th>\n",
       "      <th>Pregnancies</th>\n",
       "      <th>Glucose</th>\n",
       "      <th>BloodPressure</th>\n",
       "      <th>SkinThickness</th>\n",
       "      <th>Insulin</th>\n",
       "      <th>BMI</th>\n",
       "      <th>DiabetesPedigreeFunction</th>\n",
       "      <th>Age</th>\n",
       "      <th>Outcome</th>\n",
       "      <th>Glucose_Cat</th>\n",
       "      <th>Preg_Rate</th>\n",
       "      <th>Insulin_Cat</th>\n",
       "      <th>BMI_Cat</th>\n",
       "    </tr>\n",
       "  </thead>\n",
       "  <tbody>\n",
       "    <tr>\n",
       "      <th>0</th>\n",
       "      <td>0.022148</td>\n",
       "      <td>0.546313</td>\n",
       "      <td>0.265774</td>\n",
       "      <td>0.129196</td>\n",
       "      <td>0.751180</td>\n",
       "      <td>0.124028</td>\n",
       "      <td>0.002314</td>\n",
       "      <td>0.184565</td>\n",
       "      <td>1</td>\n",
       "      <td>Prediabetes</td>\n",
       "      <td>0.000443</td>\n",
       "      <td>Abnormal</td>\n",
       "      <td>Obesity</td>\n",
       "    </tr>\n",
       "    <tr>\n",
       "      <th>1</th>\n",
       "      <td>0.006604</td>\n",
       "      <td>0.561357</td>\n",
       "      <td>0.435877</td>\n",
       "      <td>0.191522</td>\n",
       "      <td>0.620794</td>\n",
       "      <td>0.175672</td>\n",
       "      <td>0.002318</td>\n",
       "      <td>0.204730</td>\n",
       "      <td>0</td>\n",
       "      <td>Normal</td>\n",
       "      <td>0.000213</td>\n",
       "      <td>Abnormal</td>\n",
       "      <td>Overweight</td>\n",
       "    </tr>\n",
       "    <tr>\n",
       "      <th>2</th>\n",
       "      <td>0.027980</td>\n",
       "      <td>0.640045</td>\n",
       "      <td>0.223841</td>\n",
       "      <td>0.117055</td>\n",
       "      <td>0.711744</td>\n",
       "      <td>0.081492</td>\n",
       "      <td>0.002350</td>\n",
       "      <td>0.111920</td>\n",
       "      <td>1</td>\n",
       "      <td>Prediabetes</td>\n",
       "      <td>0.000874</td>\n",
       "      <td>Abnormal</td>\n",
       "      <td>Healthy Weight</td>\n",
       "    </tr>\n",
       "    <tr>\n",
       "      <th>3</th>\n",
       "      <td>0.006612</td>\n",
       "      <td>0.588467</td>\n",
       "      <td>0.436392</td>\n",
       "      <td>0.152076</td>\n",
       "      <td>0.621527</td>\n",
       "      <td>0.185797</td>\n",
       "      <td>0.001104</td>\n",
       "      <td>0.138852</td>\n",
       "      <td>0</td>\n",
       "      <td>Normal</td>\n",
       "      <td>0.000315</td>\n",
       "      <td>Normal</td>\n",
       "      <td>Overweight</td>\n",
       "    </tr>\n",
       "    <tr>\n",
       "      <th>4</th>\n",
       "      <td>0.000000</td>\n",
       "      <td>0.596386</td>\n",
       "      <td>0.174127</td>\n",
       "      <td>0.152361</td>\n",
       "      <td>0.731335</td>\n",
       "      <td>0.187622</td>\n",
       "      <td>0.009960</td>\n",
       "      <td>0.143655</td>\n",
       "      <td>1</td>\n",
       "      <td>Normal</td>\n",
       "      <td>0.000000</td>\n",
       "      <td>Abnormal</td>\n",
       "      <td>Obesity</td>\n",
       "    </tr>\n",
       "  </tbody>\n",
       "</table>\n",
       "</div>"
      ],
      "text/plain": [
       "   Pregnancies   Glucose  BloodPressure  ...  Preg_Rate  Insulin_Cat         BMI_Cat\n",
       "0     0.022148  0.546313       0.265774  ...   0.000443     Abnormal         Obesity\n",
       "1     0.006604  0.561357       0.435877  ...   0.000213     Abnormal      Overweight\n",
       "2     0.027980  0.640045       0.223841  ...   0.000874     Abnormal  Healthy Weight\n",
       "3     0.006612  0.588467       0.436392  ...   0.000315       Normal      Overweight\n",
       "4     0.000000  0.596386       0.174127  ...   0.000000     Abnormal         Obesity\n",
       "\n",
       "[5 rows x 13 columns]"
      ]
     },
     "execution_count": 17,
     "metadata": {
      "tags": []
     },
     "output_type": "execute_result"
    }
   ],
   "source": [
    "scaler = Normalizer()\n",
    "df_train[quantitative] = scaler.fit_transform(df_train[quantitative])\n",
    "df_train.head()"
   ]
  },
  {
   "cell_type": "code",
   "execution_count": 18,
   "metadata": {
    "id": "WbnYyy9Rtsr2"
   },
   "outputs": [],
   "source": [
    "qualitative = ['Glucose_Cat','Insulin_Cat','BMI_Cat']"
   ]
  },
  {
   "cell_type": "code",
   "execution_count": 19,
   "metadata": {
    "id": "XCJilv8NtvY5"
   },
   "outputs": [],
   "source": [
    "df_train[qualitative] = df_train[qualitative].apply(LabelEncoder().fit_transform)"
   ]
  },
  {
   "cell_type": "code",
   "execution_count": 36,
   "metadata": {
    "id": "RdJBkNzRtxFc"
   },
   "outputs": [],
   "source": [
    "X = df_train.drop('Outcome',axis=1)\n",
    "X = X.drop('BloodPressure',axis = 1)\n",
    "X = X.drop('Preg_Rate',axis = 1)                   \n",
    "y = df_train['Outcome']\n",
    "X_train, X_test, y_train, y_test = train_test_split(X, y, test_size = 0.2, random_state = 32)"
   ]
  },
  {
   "cell_type": "code",
   "execution_count": 37,
   "metadata": {
    "colab": {
     "base_uri": "https://localhost:8080/"
    },
    "id": "ZN7G2ex2t3Cm",
    "outputId": "d8675e0a-f5db-4e8e-b91c-7a8c0e43ada3"
   },
   "outputs": [
    {
     "name": "stdout",
     "output_type": "stream",
     "text": [
      "The Training accuracy is 0.7280130293159609\n",
      "The Testing accuracy is 0.8116883116883117\n"
     ]
    }
   ],
   "source": [
    "model = SVC(C = 0.8,kernel='linear',gamma='auto')\n",
    "model.fit(X_train, y_train)\n",
    "y_predict = model.predict(X_train)\n",
    "print(f'The Training accuracy is {accuracy_score(y_train, y_predict)}')\n",
    "y_pred_sklearn = model.predict(X_test)\n",
    "print(f'The Testing accuracy is {accuracy_score(y_test, y_pred_sklearn)}')"
   ]
  },
  {
   "cell_type": "code",
   "execution_count": 40,
   "metadata": {
    "colab": {
     "base_uri": "https://localhost:8080/"
    },
    "id": "pHtUN3JFtyuQ",
    "outputId": "470e4969-75b7-45bf-e34d-f4933107acf0"
   },
   "outputs": [
    {
     "name": "stdout",
     "output_type": "stream",
     "text": [
      "0.7263843648208469\n",
      "0.8181818181818182\n"
     ]
    }
   ],
   "source": [
    "model = LogisticRegression(max_iter= 40)\n",
    "model.fit(X_train,y_train)\n",
    "train_predictions = model.predict(X_train)\n",
    "test_predictions = model.predict(X_test)\n",
    "\n",
    "print(accuracy_score(y_train, train_predictions))\n",
    "print(accuracy_score(y_test, test_predictions))"
   ]
  },
  {
   "cell_type": "code",
   "execution_count": 41,
   "metadata": {
    "colab": {
     "base_uri": "https://localhost:8080/"
    },
    "id": "Oa3dsODzt0kA",
    "outputId": "87aef9d2-c34c-4b92-fb76-675e7cdbe74b"
   },
   "outputs": [
    {
     "name": "stdout",
     "output_type": "stream",
     "text": [
      "The Training accuracy is 0.8908794788273615\n",
      "The Testing accuracy is 0.8246753246753247\n"
     ]
    }
   ],
   "source": [
    "#Fit the KNN model\n",
    "K=3\n",
    "knn= KNeighborsClassifier(K)\n",
    "knn.fit(X_train , y_train)\n",
    "y_pred_sklearn = knn.predict(X_train)\n",
    "print(f'The Training accuracy is {accuracy_score(y_train, y_pred_sklearn)}')\n",
    "y_pred_sklearn = knn.predict(X_test)\n",
    "print(f'The Testing accuracy is {accuracy_score(y_test, y_pred_sklearn)}')"
   ]
  },
  {
   "cell_type": "code",
   "execution_count": null,
   "metadata": {
    "id": "ExjlNnAJxkEx"
   },
   "outputs": [],
   "source": []
  }
 ],
 "metadata": {
  "colab": {
   "name": "Mahmoud_Salama_Elnazer_3.ipynb",
   "provenance": []
  },
  "kernelspec": {
   "display_name": "Python 3",
   "language": "python",
   "name": "python3"
  },
  "language_info": {
   "codemirror_mode": {
    "name": "ipython",
    "version": 3
   },
   "file_extension": ".py",
   "mimetype": "text/x-python",
   "name": "python",
   "nbconvert_exporter": "python",
   "pygments_lexer": "ipython3",
   "version": "3.7.6"
  }
 },
 "nbformat": 4,
 "nbformat_minor": 1
}
